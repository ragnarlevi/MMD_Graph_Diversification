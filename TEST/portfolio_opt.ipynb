{
 "cells": [
  {
   "cell_type": "markdown",
   "metadata": {},
   "source": [
    "Test porfolio optimization and diversification calculations"
   ]
  },
  {
   "cell_type": "code",
   "execution_count": 6,
   "metadata": {},
   "outputs": [],
   "source": [
    "import pandas as pd\n",
    "import datetime\n",
    "import numpy as np\n",
    "import pickle\n",
    "import sklearn\n",
    "\n",
    "# add path to other folders, to import\n",
    "import sys, os\n",
    "sys.path.append(os.path.abspath(\"..\"))\n",
    "from util import fetch_raw_data"
   ]
  },
  {
   "cell_type": "markdown",
   "metadata": {},
   "source": [
    "Load data"
   ]
  },
  {
   "cell_type": "code",
   "execution_count": 7,
   "metadata": {},
   "outputs": [
    {
     "name": "stdout",
     "output_type": "stream",
     "text": [
      "2014-10-01 00:00:00\n",
      "2022-02-01 00:00:00\n"
     ]
    }
   ],
   "source": [
    "price_pivot, esg_pivot, sector_classification = fetch_raw_data(\"C:/Users/User/Code/MMD_Graph_Diversification/\")\n",
    "# esg smoothed stock\n",
    "with open(\"../data/tidy/gp_esg_stock_data_frame.pkl\", \"rb\") as input_file:\n",
    "   gp_esg_stock_data_frame = pickle.load(input_file)\n"
   ]
  },
  {
   "cell_type": "markdown",
   "metadata": {},
   "source": [
    "diversification functions"
   ]
  },
  {
   "cell_type": "code",
   "execution_count": 34,
   "metadata": {},
   "outputs": [],
   "source": [
    "def calc_dr(w, cov):\n",
    "    # numerator is perfect correlation\n",
    "    # denom is portfolio risk\n",
    "    return np.inner(w, np.sqrt(np.diag(cov)))/np.sqrt(np.dot(w, cov).dot(w))\n",
    "\n",
    "def var_dr(w,data, q = 0.95):\n",
    "    # w weights\n",
    "    # d = data\n",
    "\n",
    "    ind_var = []\n",
    "    for col in data.columns:\n",
    "        ind_var.append(np.quantile(-data[col], q))\n",
    "\n",
    "    port_var = np.quantile(np.dot(-data, w), q)\n",
    "\n",
    "    return np.sum(ind_var)/port_var\n",
    "\n",
    "\n"
   ]
  },
  {
   "cell_type": "markdown",
   "metadata": {},
   "source": [
    "Estimate the correlation for some sector using various methods. Look at the weights, diversification for different methods"
   ]
  },
  {
   "cell_type": "code",
   "execution_count": 35,
   "metadata": {},
   "outputs": [],
   "source": [
    "\n",
    "sector = 'Industrials'\n",
    "rolling_window_size = 150\n",
    "time_i = 200\n",
    "\n",
    "normal_div_gmv_dict = {}\n",
    "var_div_gmv_dict = {}\n",
    "\n",
    "current_returns = price_pivot.loc[:,np.isin(price_pivot.columns,sector_classification[sector])].iloc[(time_i - rolling_window_size):time_i]\n",
    "\n",
    "from sklearn.preprocessing import StandardScaler\n",
    "scaler = StandardScaler()\n",
    "current_return_scaled = scaler.fit_transform(current_returns)\n",
    "\n",
    "S = np.cov(current_return_scaled.T)\n",
    "w_gmv = np.dot(np.linalg.inv(S), np.ones(S.shape[0]))/np.dot(np.ones(S.shape[0]), np.linalg.inv(S)).dot(np.ones(S.shape[0])) \n",
    "normal_div_gmv_dict['scaled cov'] = calc_dr(w_gmv, S)\n",
    "var_div_gmv_dict['scaled cov'] = var_dr(w_gmv, current_returns)\n",
    "\n",
    "\n",
    "\n",
    "\n",
    "\n",
    "\n"
   ]
  },
  {
   "cell_type": "code",
   "execution_count": 36,
   "metadata": {},
   "outputs": [
    {
     "data": {
      "text/plain": [
       "{'scaled cov': 106.446595711661}"
      ]
     },
     "execution_count": 36,
     "metadata": {},
     "output_type": "execute_result"
    }
   ],
   "source": [
    "var_div_gmv_dict"
   ]
  }
 ],
 "metadata": {
  "kernelspec": {
   "display_name": "Python 3.8.5",
   "language": "python",
   "name": "python3"
  },
  "language_info": {
   "codemirror_mode": {
    "name": "ipython",
    "version": 3
   },
   "file_extension": ".py",
   "mimetype": "text/x-python",
   "name": "python",
   "nbconvert_exporter": "python",
   "pygments_lexer": "ipython3",
   "version": "3.8.5"
  },
  "orig_nbformat": 4,
  "vscode": {
   "interpreter": {
    "hash": "e5751a66115cca13560cf37aeeed4243eac6d0108f8b06b399eb3b36d8bd3124"
   }
  }
 },
 "nbformat": 4,
 "nbformat_minor": 2
}
